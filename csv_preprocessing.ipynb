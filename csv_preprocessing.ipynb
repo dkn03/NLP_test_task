{
 "cells": [
  {
   "cell_type": "code",
   "execution_count": 9,
   "metadata": {},
   "outputs": [],
   "source": [
    "import pandas as pd\n",
    "from sklearn.model_selection import train_test_split"
   ]
  },
  {
   "cell_type": "markdown",
   "metadata": {},
   "source": [
    "# Предобработка данных и разделение на тренировочный/тестовый датасеты"
   ]
  },
  {
   "cell_type": "code",
   "execution_count": 10,
   "metadata": {},
   "outputs": [
    {
     "data": {
      "text/html": [
       "<div>\n",
       "<style scoped>\n",
       "    .dataframe tbody tr th:only-of-type {\n",
       "        vertical-align: middle;\n",
       "    }\n",
       "\n",
       "    .dataframe tbody tr th {\n",
       "        vertical-align: top;\n",
       "    }\n",
       "\n",
       "    .dataframe thead th {\n",
       "        text-align: right;\n",
       "    }\n",
       "</style>\n",
       "<table border=\"1\" class=\"dataframe\">\n",
       "  <thead>\n",
       "    <tr style=\"text-align: right;\">\n",
       "      <th></th>\n",
       "      <th>text</th>\n",
       "      <th>mtype</th>\n",
       "    </tr>\n",
       "  </thead>\n",
       "  <tbody>\n",
       "    <tr>\n",
       "      <th>0</th>\n",
       "      <td>12 частей баранина  12 частей баранина</td>\n",
       "      <td>Баранина</td>\n",
       "    </tr>\n",
       "    <tr>\n",
       "      <th>1</th>\n",
       "      <td>Баранина, 12 частей, зам. цена 260 руб.</td>\n",
       "      <td>Баранина</td>\n",
       "    </tr>\n",
       "    <tr>\n",
       "      <th>2</th>\n",
       "      <td>Баранина, 12 частей, зам. цена 315 руб.</td>\n",
       "      <td>Баранина</td>\n",
       "    </tr>\n",
       "    <tr>\n",
       "      <th>3</th>\n",
       "      <td>Баранина, 12 частей, охл.</td>\n",
       "      <td>Баранина</td>\n",
       "    </tr>\n",
       "    <tr>\n",
       "      <th>4</th>\n",
       "      <td>Баранина, 12 частей, охл. цена 220 руб.</td>\n",
       "      <td>Баранина</td>\n",
       "    </tr>\n",
       "    <tr>\n",
       "      <th>...</th>\n",
       "      <td>...</td>\n",
       "      <td>...</td>\n",
       "    </tr>\n",
       "    <tr>\n",
       "      <th>17888</th>\n",
       "      <td>Ягнятина, шея, бк</td>\n",
       "      <td>Ягнятина</td>\n",
       "    </tr>\n",
       "    <tr>\n",
       "      <th>17889</th>\n",
       "      <td>Язык ягненка (н.зеландия) Отварные языки ягнят...</td>\n",
       "      <td>Ягнятина</td>\n",
       "    </tr>\n",
       "    <tr>\n",
       "      <th>17890</th>\n",
       "      <td>Ягнятина, язык, зачищ. цена 100 руб.</td>\n",
       "      <td>Ягнятина</td>\n",
       "    </tr>\n",
       "    <tr>\n",
       "      <th>17891</th>\n",
       "      <td>Як, задние части, 1 категория цена 550 руб.</td>\n",
       "      <td>Як</td>\n",
       "    </tr>\n",
       "    <tr>\n",
       "      <th>17892</th>\n",
       "      <td>Як, туши, 1 категория цена 150 руб.</td>\n",
       "      <td>Як</td>\n",
       "    </tr>\n",
       "  </tbody>\n",
       "</table>\n",
       "<p>17893 rows × 2 columns</p>\n",
       "</div>"
      ],
      "text/plain": [
       "                                                    text     mtype\n",
       "0                 12 частей баранина  12 частей баранина  Баранина\n",
       "1                Баранина, 12 частей, зам. цена 260 руб.  Баранина\n",
       "2                Баранина, 12 частей, зам. цена 315 руб.  Баранина\n",
       "3                              Баранина, 12 частей, охл.  Баранина\n",
       "4                Баранина, 12 частей, охл. цена 220 руб.  Баранина\n",
       "...                                                  ...       ...\n",
       "17888                                  Ягнятина, шея, бк  Ягнятина\n",
       "17889  Язык ягненка (н.зеландия) Отварные языки ягнят...  Ягнятина\n",
       "17890               Ягнятина, язык, зачищ. цена 100 руб.  Ягнятина\n",
       "17891        Як, задние части, 1 категория цена 550 руб.        Як\n",
       "17892                Як, туши, 1 категория цена 150 руб.        Як\n",
       "\n",
       "[17893 rows x 2 columns]"
      ]
     },
     "execution_count": 10,
     "metadata": {},
     "output_type": "execute_result"
    }
   ],
   "source": [
    "df = pd.read_csv('meatinfo.csv', delimiter=';')\n",
    "df"
   ]
  },
  {
   "cell_type": "markdown",
   "metadata": {},
   "source": [
    "Согласно заданию, в датасете остаются только те классы, для которых существует не менее 500 примеров"
   ]
  },
  {
   "cell_type": "code",
   "execution_count": 11,
   "metadata": {},
   "outputs": [],
   "source": [
    "value_counts = df['mtype'].value_counts()\n",
    "frequent_values = value_counts[value_counts > 500].index\n",
    "df = df.loc[df['mtype'].isin(frequent_values)]\n",
    "\n",
    "df"
   ]
  },
  {
   "cell_type": "markdown",
   "metadata": {},
   "source": [
    "Разделение данных и запись их в файл"
   ]
  },
  {
   "cell_type": "markdown",
   "metadata": {},
   "source": []
  },
  {
   "cell_type": "code",
   "execution_count": null,
   "metadata": {},
   "outputs": [],
   "source": [
    "train_df, test_df = train_test_split(df, train_size=0.8)\n",
    "train_df.reset_index(inplace=True)\n",
    "test_df.reset_index(inplace=True)"
   ]
  },
  {
   "cell_type": "code",
   "execution_count": 12,
   "metadata": {},
   "outputs": [],
   "source": [
    "train_df.to_csv(\"train.csv\", sep=';')\n",
    "test_df.to_csv(\"test.csv\", sep=';')"
   ]
  }
 ],
 "metadata": {
  "kernelspec": {
   "display_name": "myenv",
   "language": "python",
   "name": "python3"
  },
  "language_info": {
   "codemirror_mode": {
    "name": "ipython",
    "version": 3
   },
   "file_extension": ".py",
   "mimetype": "text/x-python",
   "name": "python",
   "nbconvert_exporter": "python",
   "pygments_lexer": "ipython3",
   "version": "3.11.3"
  }
 },
 "nbformat": 4,
 "nbformat_minor": 2
}
