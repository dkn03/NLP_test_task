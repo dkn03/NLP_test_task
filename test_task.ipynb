{
 "cells": [
  {
   "cell_type": "code",
   "execution_count": 1,
   "metadata": {},
   "outputs": [
    {
     "name": "stderr",
     "output_type": "stream",
     "text": [
      "c:\\Users\\admin\\PycharmProjects\\test_task\\myenv\\Lib\\site-packages\\tqdm\\auto.py:21: TqdmWarning: IProgress not found. Please update jupyter and ipywidgets. See https://ipywidgets.readthedocs.io/en/stable/user_install.html\n",
      "  from .autonotebook import tqdm as notebook_tqdm\n"
     ]
    }
   ],
   "source": [
    "import pandas as pd\n",
    "import torch\n",
    "import numpy as np\n",
    "\n",
    "from sklearn.metrics import accuracy_score\n",
    "from sklearn.model_selection import train_test_split\n",
    "\n",
    "from torch.utils.data import Dataset\n",
    "from transformers import BertTokenizer, BertForSequenceClassification, Trainer, TrainingArguments, DataCollatorWithPadding, EarlyStoppingCallback, IntervalStrategy\n"
   ]
  },
  {
   "cell_type": "code",
   "execution_count": 2,
   "metadata": {},
   "outputs": [],
   "source": [
    "device = torch.device(\"cuda\" if torch.cuda.is_available() else \"cpu\")"
   ]
  },
  {
   "cell_type": "markdown",
   "metadata": {},
   "source": [
    "# Чтение данных"
   ]
  },
  {
   "cell_type": "code",
   "execution_count": 3,
   "metadata": {},
   "outputs": [
    {
     "data": {
      "text/html": [
       "<div>\n",
       "<style scoped>\n",
       "    .dataframe tbody tr th:only-of-type {\n",
       "        vertical-align: middle;\n",
       "    }\n",
       "\n",
       "    .dataframe tbody tr th {\n",
       "        vertical-align: top;\n",
       "    }\n",
       "\n",
       "    .dataframe thead th {\n",
       "        text-align: right;\n",
       "    }\n",
       "</style>\n",
       "<table border=\"1\" class=\"dataframe\">\n",
       "  <thead>\n",
       "    <tr style=\"text-align: right;\">\n",
       "      <th></th>\n",
       "      <th>text</th>\n",
       "      <th>mtype</th>\n",
       "    </tr>\n",
       "  </thead>\n",
       "  <tbody>\n",
       "    <tr>\n",
       "      <th>0</th>\n",
       "      <td>12 частей баранина  12 частей баранина</td>\n",
       "      <td>Баранина</td>\n",
       "    </tr>\n",
       "    <tr>\n",
       "      <th>1</th>\n",
       "      <td>Баранина, 12 частей, зам. цена 260 руб.</td>\n",
       "      <td>Баранина</td>\n",
       "    </tr>\n",
       "    <tr>\n",
       "      <th>2</th>\n",
       "      <td>Баранина, 12 частей, зам. цена 315 руб.</td>\n",
       "      <td>Баранина</td>\n",
       "    </tr>\n",
       "    <tr>\n",
       "      <th>3</th>\n",
       "      <td>Баранина, 12 частей, охл.</td>\n",
       "      <td>Баранина</td>\n",
       "    </tr>\n",
       "    <tr>\n",
       "      <th>4</th>\n",
       "      <td>Баранина, 12 частей, охл. цена 220 руб.</td>\n",
       "      <td>Баранина</td>\n",
       "    </tr>\n",
       "    <tr>\n",
       "      <th>...</th>\n",
       "      <td>...</td>\n",
       "      <td>...</td>\n",
       "    </tr>\n",
       "    <tr>\n",
       "      <th>17888</th>\n",
       "      <td>Ягнятина, шея, бк</td>\n",
       "      <td>Ягнятина</td>\n",
       "    </tr>\n",
       "    <tr>\n",
       "      <th>17889</th>\n",
       "      <td>Язык ягненка (н.зеландия) Отварные языки ягнят...</td>\n",
       "      <td>Ягнятина</td>\n",
       "    </tr>\n",
       "    <tr>\n",
       "      <th>17890</th>\n",
       "      <td>Ягнятина, язык, зачищ. цена 100 руб.</td>\n",
       "      <td>Ягнятина</td>\n",
       "    </tr>\n",
       "    <tr>\n",
       "      <th>17891</th>\n",
       "      <td>Як, задние части, 1 категория цена 550 руб.</td>\n",
       "      <td>Як</td>\n",
       "    </tr>\n",
       "    <tr>\n",
       "      <th>17892</th>\n",
       "      <td>Як, туши, 1 категория цена 150 руб.</td>\n",
       "      <td>Як</td>\n",
       "    </tr>\n",
       "  </tbody>\n",
       "</table>\n",
       "<p>17893 rows × 2 columns</p>\n",
       "</div>"
      ],
      "text/plain": [
       "                                                    text     mtype\n",
       "0                 12 частей баранина  12 частей баранина  Баранина\n",
       "1                Баранина, 12 частей, зам. цена 260 руб.  Баранина\n",
       "2                Баранина, 12 частей, зам. цена 315 руб.  Баранина\n",
       "3                              Баранина, 12 частей, охл.  Баранина\n",
       "4                Баранина, 12 частей, охл. цена 220 руб.  Баранина\n",
       "...                                                  ...       ...\n",
       "17888                                  Ягнятина, шея, бк  Ягнятина\n",
       "17889  Язык ягненка (н.зеландия) Отварные языки ягнят...  Ягнятина\n",
       "17890               Ягнятина, язык, зачищ. цена 100 руб.  Ягнятина\n",
       "17891        Як, задние части, 1 категория цена 550 руб.        Як\n",
       "17892                Як, туши, 1 категория цена 150 руб.        Як\n",
       "\n",
       "[17893 rows x 2 columns]"
      ]
     },
     "execution_count": 3,
     "metadata": {},
     "output_type": "execute_result"
    }
   ],
   "source": [
    "df = pd.read_csv('meatinfo.csv', delimiter=';')\n",
    "df"
   ]
  },
  {
   "cell_type": "code",
   "execution_count": 4,
   "metadata": {},
   "outputs": [
    {
     "data": {
      "text/html": [
       "<div>\n",
       "<style scoped>\n",
       "    .dataframe tbody tr th:only-of-type {\n",
       "        vertical-align: middle;\n",
       "    }\n",
       "\n",
       "    .dataframe tbody tr th {\n",
       "        vertical-align: top;\n",
       "    }\n",
       "\n",
       "    .dataframe thead th {\n",
       "        text-align: right;\n",
       "    }\n",
       "</style>\n",
       "<table border=\"1\" class=\"dataframe\">\n",
       "  <thead>\n",
       "    <tr style=\"text-align: right;\">\n",
       "      <th></th>\n",
       "      <th>text</th>\n",
       "      <th>mtype</th>\n",
       "    </tr>\n",
       "  </thead>\n",
       "  <tbody>\n",
       "    <tr>\n",
       "      <th>0</th>\n",
       "      <td>12 частей баранина  12 частей баранина</td>\n",
       "      <td>Баранина</td>\n",
       "    </tr>\n",
       "    <tr>\n",
       "      <th>1</th>\n",
       "      <td>Баранина, 12 частей, зам. цена 260 руб.</td>\n",
       "      <td>Баранина</td>\n",
       "    </tr>\n",
       "    <tr>\n",
       "      <th>2</th>\n",
       "      <td>Баранина, 12 частей, зам. цена 315 руб.</td>\n",
       "      <td>Баранина</td>\n",
       "    </tr>\n",
       "    <tr>\n",
       "      <th>3</th>\n",
       "      <td>Баранина, 12 частей, охл.</td>\n",
       "      <td>Баранина</td>\n",
       "    </tr>\n",
       "    <tr>\n",
       "      <th>4</th>\n",
       "      <td>Баранина, 12 частей, охл. цена 220 руб.</td>\n",
       "      <td>Баранина</td>\n",
       "    </tr>\n",
       "    <tr>\n",
       "      <th>...</th>\n",
       "      <td>...</td>\n",
       "      <td>...</td>\n",
       "    </tr>\n",
       "    <tr>\n",
       "      <th>17816</th>\n",
       "      <td>Цыпленок, четвертина, задняя</td>\n",
       "      <td>Цыпленок</td>\n",
       "    </tr>\n",
       "    <tr>\n",
       "      <th>17817</th>\n",
       "      <td>Цыпленок, четвертина, задняя цена 100 руб.</td>\n",
       "      <td>Цыпленок</td>\n",
       "    </tr>\n",
       "    <tr>\n",
       "      <th>17818</th>\n",
       "      <td>ЦБ Шеи п/ф Свеженка ГОСТ зам пак Шеи куриные П...</td>\n",
       "      <td>Цыпленок</td>\n",
       "    </tr>\n",
       "    <tr>\n",
       "      <th>17819</th>\n",
       "      <td>Цыпленок, шея, без кожи</td>\n",
       "      <td>Цыпленок</td>\n",
       "    </tr>\n",
       "    <tr>\n",
       "      <th>17820</th>\n",
       "      <td>Цыпленок, шея, без кожи цена 27 руб.</td>\n",
       "      <td>Цыпленок</td>\n",
       "    </tr>\n",
       "  </tbody>\n",
       "</table>\n",
       "<p>16438 rows × 2 columns</p>\n",
       "</div>"
      ],
      "text/plain": [
       "                                                    text     mtype\n",
       "0                 12 частей баранина  12 частей баранина  Баранина\n",
       "1                Баранина, 12 частей, зам. цена 260 руб.  Баранина\n",
       "2                Баранина, 12 частей, зам. цена 315 руб.  Баранина\n",
       "3                              Баранина, 12 частей, охл.  Баранина\n",
       "4                Баранина, 12 частей, охл. цена 220 руб.  Баранина\n",
       "...                                                  ...       ...\n",
       "17816                       Цыпленок, четвертина, задняя  Цыпленок\n",
       "17817         Цыпленок, четвертина, задняя цена 100 руб.  Цыпленок\n",
       "17818  ЦБ Шеи п/ф Свеженка ГОСТ зам пак Шеи куриные П...  Цыпленок\n",
       "17819                            Цыпленок, шея, без кожи  Цыпленок\n",
       "17820               Цыпленок, шея, без кожи цена 27 руб.  Цыпленок\n",
       "\n",
       "[16438 rows x 2 columns]"
      ]
     },
     "execution_count": 4,
     "metadata": {},
     "output_type": "execute_result"
    }
   ],
   "source": [
    "value_counts = df['mtype'].value_counts()\n",
    "frequent_values = value_counts[value_counts > 500].index\n",
    "df = df.loc[df['mtype'].isin(frequent_values)]\n",
    "df"
   ]
  },
  {
   "cell_type": "code",
   "execution_count": 5,
   "metadata": {},
   "outputs": [],
   "source": [
    "train_df, test_df = train_test_split(df, train_size=0.8)\n",
    "train_df.reset_index(inplace=True)\n",
    "test_df.reset_index(inplace=True)"
   ]
  },
  {
   "cell_type": "code",
   "execution_count": 6,
   "metadata": {},
   "outputs": [],
   "source": [
    "def create_label_encoder(values):\n",
    "    labels_to_code = {}\n",
    "    for i, label in enumerate(sorted(values)):\n",
    "        labels_to_code[label] = i\n",
    "    code_to_labels = {code: label for label, code in labels_to_code.items()}\n",
    "    return labels_to_code, code_to_labels"
   ]
  },
  {
   "cell_type": "code",
   "execution_count": 7,
   "metadata": {},
   "outputs": [
    {
     "name": "stdout",
     "output_type": "stream",
     "text": [
      "{'Баранина': 0, 'Говядина': 1, 'Индейка': 2, 'Кура': 3, 'Свинина': 4, 'Цыпленок': 5}\n",
      "{0: 'Баранина', 1: 'Говядина', 2: 'Индейка', 3: 'Кура', 4: 'Свинина', 5: 'Цыпленок'}\n"
     ]
    }
   ],
   "source": [
    "label_to_code, code_to_label = create_label_encoder(pd.unique(train_df['mtype']))\n",
    "print(label_to_code)\n",
    "print(code_to_label)"
   ]
  },
  {
   "cell_type": "code",
   "execution_count": 8,
   "metadata": {},
   "outputs": [],
   "source": [
    "class MeatDataset(Dataset):\n",
    "\n",
    "    def __init__(self, df, tokenizer, label_encoder):\n",
    "        self.x = df['text']\n",
    "        self.y = df['mtype']\n",
    "        self.tokenizer = tokenizer\n",
    "        self.label_encoder = label_encoder\n",
    "    \n",
    "    def __getitem__(self, index):\n",
    "        item = dict(self.tokenizer(self.x[index], truncation=True, padding='max_length', max_length=512))\n",
    "        item['label'] = self.label_encoder[self.y[index]]\n",
    "        #item['label'] = self.tokenizer(self.y[index], truncation=True, padding='max_length', max_length=512)['input_ids']\n",
    "        return item\n",
    "        \n",
    "    def __len__(self):\n",
    "        return len(self.x)"
   ]
  },
  {
   "cell_type": "markdown",
   "metadata": {},
   "source": [
    "# Подготовка модели"
   ]
  },
  {
   "cell_type": "code",
   "execution_count": 9,
   "metadata": {},
   "outputs": [
    {
     "name": "stderr",
     "output_type": "stream",
     "text": [
      "Some weights of BertForSequenceClassification were not initialized from the model checkpoint at cointegrated/rubert-tiny and are newly initialized: ['classifier.bias', 'classifier.weight']\n",
      "You should probably TRAIN this model on a down-stream task to be able to use it for predictions and inference.\n"
     ]
    }
   ],
   "source": [
    "tokenizer_path = 'cointegrated/rubert-tiny'\n",
    "tokenizer = BertTokenizer.from_pretrained(tokenizer_path)\n",
    "\n",
    "model_path = 'cointegrated/rubert-tiny'\n",
    "model = BertForSequenceClassification.from_pretrained(model_path, num_labels=len(label_to_code.keys()))\n"
   ]
  },
  {
   "cell_type": "code",
   "execution_count": 10,
   "metadata": {},
   "outputs": [],
   "source": [
    "train_dataset = MeatDataset(train_df, tokenizer, label_to_code)\n",
    "test_dataset = MeatDataset(test_df, tokenizer, label_to_code)"
   ]
  },
  {
   "cell_type": "code",
   "execution_count": 11,
   "metadata": {},
   "outputs": [],
   "source": [
    "SAVE_PATH = \"model_data\"\n",
    "training_args = TrainingArguments(\n",
    "    output_dir=SAVE_PATH,\n",
    "    learning_rate=2e-5,\n",
    "    per_device_train_batch_size=8,\n",
    "    per_device_eval_batch_size=8,\n",
    "    num_train_epochs=10, \n",
    "    load_best_model_at_end=True,\n",
    "    eval_strategy = IntervalStrategy.STEPS\n",
    ")\n",
    "data_collator = DataCollatorWithPadding(tokenizer=tokenizer)\n"
   ]
  },
  {
   "cell_type": "code",
   "execution_count": 12,
   "metadata": {},
   "outputs": [],
   "source": [
    "def compute_metrics(pred):\n",
    "    labels = pred.label_ids\n",
    "    preds = np.argmax(pred.predictions, axis=1)\n",
    "    acc = accuracy_score(labels, preds)\n",
    "    return {\n",
    "        'accuracy': acc,\n",
    "        \n",
    "    }"
   ]
  },
  {
   "cell_type": "code",
   "execution_count": 13,
   "metadata": {},
   "outputs": [
    {
     "name": "stderr",
     "output_type": "stream",
     "text": [
      "  0%|          | 0/16440 [00:00<?, ?it/s]c:\\Users\\admin\\PycharmProjects\\test_task\\myenv\\Lib\\site-packages\\transformers\\models\\bert\\modeling_bert.py:435: UserWarning: 1Torch was not compiled with flash attention. (Triggered internally at ..\\aten\\src\\ATen\\native\\transformers\\cuda\\sdp_utils.cpp:455.)\n",
      "  attn_output = torch.nn.functional.scaled_dot_product_attention(\n",
      "  3%|▎         | 500/16440 [02:23<1:15:21,  3.53it/s]"
     ]
    },
    {
     "name": "stdout",
     "output_type": "stream",
     "text": [
      "{'loss': 0.8368, 'grad_norm': 12.26498031616211, 'learning_rate': 1.9391727493917275e-05, 'epoch': 0.3}\n"
     ]
    },
    {
     "name": "stderr",
     "output_type": "stream",
     "text": [
      "                                                     \n",
      "  3%|▎         | 500/16440 [02:48<1:15:21,  3.53it/s]"
     ]
    },
    {
     "name": "stdout",
     "output_type": "stream",
     "text": [
      "{'eval_loss': 0.2759599983692169, 'eval_accuracy': 0.9239659367396593, 'eval_runtime': 24.7817, 'eval_samples_per_second': 132.679, 'eval_steps_per_second': 16.585, 'epoch': 0.3}\n"
     ]
    },
    {
     "name": "stderr",
     "output_type": "stream",
     "text": [
      "  6%|▌         | 1000/16440 [05:16<1:14:09,  3.47it/s]"
     ]
    },
    {
     "name": "stdout",
     "output_type": "stream",
     "text": [
      "{'loss': 0.2354, 'grad_norm': 0.19746597111225128, 'learning_rate': 1.878345498783455e-05, 'epoch': 0.61}\n"
     ]
    },
    {
     "name": "stderr",
     "output_type": "stream",
     "text": [
      "                                                      \n",
      "  6%|▌         | 1000/16440 [05:42<1:14:09,  3.47it/s]"
     ]
    },
    {
     "name": "stdout",
     "output_type": "stream",
     "text": [
      "{'eval_loss': 0.1485750824213028, 'eval_accuracy': 0.9531630170316302, 'eval_runtime': 26.1769, 'eval_samples_per_second': 125.607, 'eval_steps_per_second': 15.701, 'epoch': 0.61}\n"
     ]
    },
    {
     "name": "stderr",
     "output_type": "stream",
     "text": [
      "  9%|▉         | 1500/16440 [08:13<1:15:01,  3.32it/s] "
     ]
    },
    {
     "name": "stdout",
     "output_type": "stream",
     "text": [
      "{'loss': 0.163, 'grad_norm': 3.449267625808716, 'learning_rate': 1.8175182481751824e-05, 'epoch': 0.91}\n"
     ]
    },
    {
     "name": "stderr",
     "output_type": "stream",
     "text": [
      "                                                      \n",
      "  9%|▉         | 1500/16440 [08:39<1:15:01,  3.32it/s]"
     ]
    },
    {
     "name": "stdout",
     "output_type": "stream",
     "text": [
      "{'eval_loss': 0.12706972658634186, 'eval_accuracy': 0.9583333333333334, 'eval_runtime': 26.0628, 'eval_samples_per_second': 126.157, 'eval_steps_per_second': 15.77, 'epoch': 0.91}\n"
     ]
    },
    {
     "name": "stderr",
     "output_type": "stream",
     "text": [
      " 12%|█▏        | 2000/16440 [11:11<1:13:13,  3.29it/s] "
     ]
    },
    {
     "name": "stdout",
     "output_type": "stream",
     "text": [
      "{'loss': 0.1377, 'grad_norm': 0.6970266103744507, 'learning_rate': 1.75669099756691e-05, 'epoch': 1.22}\n"
     ]
    },
    {
     "name": "stderr",
     "output_type": "stream",
     "text": [
      "                                                      \n",
      " 12%|█▏        | 2000/16440 [11:37<1:13:13,  3.29it/s]"
     ]
    },
    {
     "name": "stdout",
     "output_type": "stream",
     "text": [
      "{'eval_loss': 0.11712830513715744, 'eval_accuracy': 0.9613746958637469, 'eval_runtime': 26.2014, 'eval_samples_per_second': 125.49, 'eval_steps_per_second': 15.686, 'epoch': 1.22}\n"
     ]
    },
    {
     "name": "stderr",
     "output_type": "stream",
     "text": [
      " 15%|█▌        | 2500/16440 [14:09<1:08:19,  3.40it/s] "
     ]
    },
    {
     "name": "stdout",
     "output_type": "stream",
     "text": [
      "{'loss': 0.1295, 'grad_norm': 0.3914744555950165, 'learning_rate': 1.6958637469586377e-05, 'epoch': 1.52}\n"
     ]
    },
    {
     "name": "stderr",
     "output_type": "stream",
     "text": [
      "                                                      \n",
      " 15%|█▌        | 2500/16440 [14:35<1:08:19,  3.40it/s]"
     ]
    },
    {
     "name": "stdout",
     "output_type": "stream",
     "text": [
      "{'eval_loss': 0.11933775246143341, 'eval_accuracy': 0.9616788321167883, 'eval_runtime': 26.2885, 'eval_samples_per_second': 125.074, 'eval_steps_per_second': 15.634, 'epoch': 1.52}\n"
     ]
    },
    {
     "name": "stderr",
     "output_type": "stream",
     "text": [
      " 18%|█▊        | 3000/16440 [17:08<1:14:26,  3.01it/s] "
     ]
    },
    {
     "name": "stdout",
     "output_type": "stream",
     "text": [
      "{'loss': 0.1189, 'grad_norm': 0.4701308012008667, 'learning_rate': 1.635036496350365e-05, 'epoch': 1.82}\n"
     ]
    },
    {
     "name": "stderr",
     "output_type": "stream",
     "text": [
      "                                                      \n",
      " 18%|█▊        | 3000/16440 [17:34<1:14:26,  3.01it/s]"
     ]
    },
    {
     "name": "stdout",
     "output_type": "stream",
     "text": [
      "{'eval_loss': 0.11593642830848694, 'eval_accuracy': 0.9607664233576643, 'eval_runtime': 26.3231, 'eval_samples_per_second': 124.909, 'eval_steps_per_second': 15.614, 'epoch': 1.82}\n"
     ]
    },
    {
     "name": "stderr",
     "output_type": "stream",
     "text": [
      " 21%|██▏       | 3500/16440 [20:07<1:06:45,  3.23it/s] "
     ]
    },
    {
     "name": "stdout",
     "output_type": "stream",
     "text": [
      "{'loss': 0.1241, 'grad_norm': 17.77716827392578, 'learning_rate': 1.5742092457420927e-05, 'epoch': 2.13}\n"
     ]
    },
    {
     "name": "stderr",
     "output_type": "stream",
     "text": [
      "                                                      \n",
      " 21%|██▏       | 3500/16440 [20:33<1:06:45,  3.23it/s]"
     ]
    },
    {
     "name": "stdout",
     "output_type": "stream",
     "text": [
      "{'eval_loss': 0.11377700418233871, 'eval_accuracy': 0.9619829683698297, 'eval_runtime': 26.4972, 'eval_samples_per_second': 124.089, 'eval_steps_per_second': 15.511, 'epoch': 2.13}\n"
     ]
    },
    {
     "name": "stderr",
     "output_type": "stream",
     "text": [
      " 24%|██▍       | 4000/16440 [23:06<1:00:50,  3.41it/s] "
     ]
    },
    {
     "name": "stdout",
     "output_type": "stream",
     "text": [
      "{'loss': 0.1023, 'grad_norm': 6.651693820953369, 'learning_rate': 1.51338199513382e-05, 'epoch': 2.43}\n"
     ]
    },
    {
     "name": "stderr",
     "output_type": "stream",
     "text": [
      "                                                      \n",
      " 24%|██▍       | 4000/16440 [23:32<1:00:50,  3.41it/s]"
     ]
    },
    {
     "name": "stdout",
     "output_type": "stream",
     "text": [
      "{'eval_loss': 0.11577507108449936, 'eval_accuracy': 0.9638077858880778, 'eval_runtime': 26.6737, 'eval_samples_per_second': 123.268, 'eval_steps_per_second': 15.408, 'epoch': 2.43}\n"
     ]
    },
    {
     "name": "stderr",
     "output_type": "stream",
     "text": [
      " 27%|██▋       | 4500/16440 [26:06<59:12,  3.36it/s]   "
     ]
    },
    {
     "name": "stdout",
     "output_type": "stream",
     "text": [
      "{'loss': 0.1112, 'grad_norm': 0.39789116382598877, 'learning_rate': 1.4525547445255475e-05, 'epoch': 2.74}\n"
     ]
    },
    {
     "name": "stderr",
     "output_type": "stream",
     "text": [
      "                                                    \n",
      " 27%|██▋       | 4500/16440 [26:33<59:12,  3.36it/s]"
     ]
    },
    {
     "name": "stdout",
     "output_type": "stream",
     "text": [
      "{'eval_loss': 0.11280577629804611, 'eval_accuracy': 0.9644160583941606, 'eval_runtime': 27.0682, 'eval_samples_per_second': 121.471, 'eval_steps_per_second': 15.184, 'epoch': 2.74}\n"
     ]
    },
    {
     "name": "stderr",
     "output_type": "stream",
     "text": [
      " 30%|███       | 5000/16440 [29:06<57:27,  3.32it/s]   "
     ]
    },
    {
     "name": "stdout",
     "output_type": "stream",
     "text": [
      "{'loss': 0.1145, 'grad_norm': 0.41750216484069824, 'learning_rate': 1.3917274939172751e-05, 'epoch': 3.04}\n"
     ]
    },
    {
     "name": "stderr",
     "output_type": "stream",
     "text": [
      "                                                    \n",
      " 30%|███       | 5000/16440 [29:32<57:27,  3.32it/s]"
     ]
    },
    {
     "name": "stdout",
     "output_type": "stream",
     "text": [
      "{'eval_loss': 0.12451565265655518, 'eval_accuracy': 0.9625912408759124, 'eval_runtime': 26.3855, 'eval_samples_per_second': 124.614, 'eval_steps_per_second': 15.577, 'epoch': 3.04}\n"
     ]
    },
    {
     "name": "stderr",
     "output_type": "stream",
     "text": [
      " 33%|███▎      | 5500/16440 [32:06<55:19,  3.30it/s]   "
     ]
    },
    {
     "name": "stdout",
     "output_type": "stream",
     "text": [
      "{'loss': 0.0972, 'grad_norm': 8.495532035827637, 'learning_rate': 1.3309002433090026e-05, 'epoch': 3.35}\n"
     ]
    },
    {
     "name": "stderr",
     "output_type": "stream",
     "text": [
      "                                                    \n",
      " 33%|███▎      | 5500/16440 [32:32<55:19,  3.30it/s]"
     ]
    },
    {
     "name": "stdout",
     "output_type": "stream",
     "text": [
      "{'eval_loss': 0.11734521389007568, 'eval_accuracy': 0.9638077858880778, 'eval_runtime': 26.44, 'eval_samples_per_second': 124.357, 'eval_steps_per_second': 15.545, 'epoch': 3.35}\n"
     ]
    },
    {
     "name": "stderr",
     "output_type": "stream",
     "text": [
      " 33%|███▎      | 5500/16440 [32:33<1:04:45,  2.82it/s]\n"
     ]
    },
    {
     "name": "stdout",
     "output_type": "stream",
     "text": [
      "{'train_runtime': 1953.545, 'train_samples_per_second': 67.314, 'train_steps_per_second': 8.415, 'train_loss': 0.19732488389448685, 'epoch': 3.35}\n"
     ]
    }
   ],
   "source": [
    "trainer = Trainer(\n",
    "    model=model,\n",
    "    args=training_args,\n",
    "    train_dataset=train_dataset,\n",
    "    eval_dataset=test_dataset,\n",
    "    tokenizer=tokenizer,\n",
    "    data_collator=data_collator,\n",
    "    callbacks = [EarlyStoppingCallback(early_stopping_patience=2)],\n",
    "    compute_metrics=compute_metrics\n",
    ")\n",
    "\n",
    "trainer.train()\n",
    "tokenizer.save_pretrained(SAVE_PATH)\n",
    "model.save_pretrained(SAVE_PATH)    "
   ]
  },
  {
   "cell_type": "markdown",
   "metadata": {},
   "source": [
    "# Метрики, полученные на тестовых данных"
   ]
  },
  {
   "cell_type": "code",
   "execution_count": 14,
   "metadata": {},
   "outputs": [
    {
     "name": "stderr",
     "output_type": "stream",
     "text": [
      "100%|██████████| 411/411 [00:25<00:00, 15.95it/s]\n"
     ]
    }
   ],
   "source": [
    "predictions = trainer.predict(test_dataset)"
   ]
  },
  {
   "cell_type": "code",
   "execution_count": 15,
   "metadata": {},
   "outputs": [
    {
     "data": {
      "text/plain": [
       "{'test_loss': 0.11280577629804611,\n",
       " 'test_accuracy': 0.9644160583941606,\n",
       " 'test_runtime': 25.8495,\n",
       " 'test_samples_per_second': 127.198,\n",
       " 'test_steps_per_second': 15.9}"
      ]
     },
     "execution_count": 15,
     "metadata": {},
     "output_type": "execute_result"
    }
   ],
   "source": [
    "predictions.metrics"
   ]
  },
  {
   "cell_type": "markdown",
   "metadata": {},
   "source": [
    "# Тестирование на конкретных примерах из тестового задания"
   ]
  },
  {
   "cell_type": "code",
   "execution_count": 16,
   "metadata": {},
   "outputs": [],
   "source": [
    "def predict(text, device=torch.device('cpu')):\n",
    "    item = tokenizer(text, return_tensors=\"pt\", truncation=True, padding='max_length', max_length=512)\n",
    "    item = {key: value.to(device=device) for key, value in item.items()}\n",
    "    return code_to_label[model(**item).logits.argmax().item()]"
   ]
  },
  {
   "cell_type": "code",
   "execution_count": 17,
   "metadata": {},
   "outputs": [
    {
     "name": "stdout",
     "output_type": "stream",
     "text": [
      "Набор для бульона свиной Набор для бульона свиной, в наличии, 76р/кг.\n",
      "Свинина\n",
      "_______\n",
      "Мясо премиум Предлагаем котлетное мясо мраморной говядины.\n",
      "Говядина\n",
      "_______\n",
      "спинка цб\n",
      "Цыпленок\n",
      "_______\n",
      "Говядина блочная 2 сорт в наличии ООО \"АгроСоюз\" реализует блочную говядину 2 сорт (80/20)\n",
      "Свободный объем 8 тонн Самовывоз или доставка. Все подробности по телефону.\n",
      "Говядина\n",
      "_______\n",
      "Куриная разделка Продам кур и куриную разделку гост и халяль по хорошей цене .Тел:\n",
      "Кура\n",
      "_______\n",
      "Говяжью мукозу Продам говяжью мукозу в охл и замороженном виде. Есть объем.\n",
      "Говядина\n",
      "_______\n"
     ]
    }
   ],
   "source": [
    "examples = ['Набор для бульона свиной Набор для бульона свиной, в наличии, 76р/кг.',\n",
    "            \"Мясо премиум Предлагаем котлетное мясо мраморной говядины.\",\n",
    "            \"спинка цб\",\n",
    "            'Говядина блочная 2 сорт в наличии ООО \"АгроСоюз\" реализует блочную говядину 2 сорт (80/20)\\nСвободный объем 8 тонн Самовывоз или доставка. Все подробности по телефону.',\n",
    "            'Куриная разделка Продам кур и куриную разделку гост и халяль по хорошей цене .Тел:',\n",
    "            'Говяжью мукозу Продам говяжью мукозу в охл и замороженном виде. Есть объем.']\n",
    "\n",
    "for example in examples:\n",
    "    print(example)\n",
    "    print(predict(example, device))\n",
    "    print(\"_______\")"
   ]
  }
 ],
 "metadata": {
  "kernelspec": {
   "display_name": "Python 3",
   "language": "python",
   "name": "python3"
  },
  "language_info": {
   "codemirror_mode": {
    "name": "ipython",
    "version": 3
   },
   "file_extension": ".py",
   "mimetype": "text/x-python",
   "name": "python",
   "nbconvert_exporter": "python",
   "pygments_lexer": "ipython3",
   "version": "3.11.3"
  }
 },
 "nbformat": 4,
 "nbformat_minor": 2
}
