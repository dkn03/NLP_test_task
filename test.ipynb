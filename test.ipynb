{
 "cells": [
  {
   "cell_type": "code",
   "execution_count": 52,
   "metadata": {},
   "outputs": [],
   "source": [
    "import pandas as pd\n",
    "import torch\n",
    "\n",
    "from sklearn.metrics import accuracy_score\n",
    "from meat_dataset import MeatDataset\n",
    "from transformers import BertTokenizer, BertForSequenceClassification\n",
    "\n",
    "from utils import create_label_encoder"
   ]
  },
  {
   "cell_type": "code",
   "execution_count": 53,
   "metadata": {},
   "outputs": [],
   "source": [
    "device = torch.device(\"cuda\" if torch.cuda.is_available() else \"cpu\")"
   ]
  },
  {
   "cell_type": "markdown",
   "metadata": {},
   "source": [
    "# Считывание данных из файлов"
   ]
  },
  {
   "cell_type": "code",
   "execution_count": 54,
   "metadata": {},
   "outputs": [],
   "source": [
    "path = \"model_data\"\n",
    "tokenizer = BertTokenizer.from_pretrained(path)\n",
    "model = BertForSequenceClassification.from_pretrained(path, num_labels=6).to(device=device)"
   ]
  },
  {
   "cell_type": "code",
   "execution_count": 55,
   "metadata": {},
   "outputs": [
    {
     "name": "stdout",
     "output_type": "stream",
     "text": [
      "{'Баранина': 0, 'Говядина': 1, 'Индейка': 2, 'Кура': 3, 'Свинина': 4, 'Цыпленок': 5}\n",
      "{0: 'Баранина', 1: 'Говядина', 2: 'Индейка', 3: 'Кура', 4: 'Свинина', 5: 'Цыпленок'}\n"
     ]
    }
   ],
   "source": [
    "test_df = pd.read_csv(\"test.csv\", delimiter=';')\n",
    "X = test_df['text']\n",
    "Y = test_df['mtype']\n",
    "label_to_code, code_to_label = create_label_encoder(pd.unique(Y))\n",
    "print(label_to_code)\n",
    "print(code_to_label)"
   ]
  },
  {
   "cell_type": "markdown",
   "metadata": {},
   "source": [
    "# Вычисление метрик"
   ]
  },
  {
   "cell_type": "code",
   "execution_count": 56,
   "metadata": {},
   "outputs": [],
   "source": [
    "def predict(text, device=torch.device('cpu')):\n",
    "    item = tokenizer(text, return_tensors=\"pt\", truncation=True, padding='max_length', max_length=512)\n",
    "    item = {key: value.to(device=device) for key, value in item.items()}\n",
    "    return code_to_label[model(**item).logits.argmax().item()]"
   ]
  },
  {
   "cell_type": "code",
   "execution_count": 57,
   "metadata": {},
   "outputs": [
    {
     "data": {
      "text/plain": [
       "'Цыпленок'"
      ]
     },
     "execution_count": 57,
     "metadata": {},
     "output_type": "execute_result"
    }
   ],
   "source": [
    "predict(X[0], device)"
   ]
  },
  {
   "cell_type": "code",
   "execution_count": 58,
   "metadata": {},
   "outputs": [],
   "source": [
    "predicted = X.map(lambda text: predict(text, device))"
   ]
  },
  {
   "cell_type": "code",
   "execution_count": 59,
   "metadata": {},
   "outputs": [
    {
     "name": "stdout",
     "output_type": "stream",
     "text": [
      "Точность модели на тестовых данных - 0.96\n"
     ]
    }
   ],
   "source": [
    "print(f\"Точность модели на тестовых данных - {accuracy_score(Y, predicted):.2f}\")"
   ]
  },
  {
   "cell_type": "markdown",
   "metadata": {},
   "source": [
    "# Работа модели на конкретных примерах из тестового задания"
   ]
  },
  {
   "cell_type": "code",
   "execution_count": 60,
   "metadata": {},
   "outputs": [
    {
     "name": "stdout",
     "output_type": "stream",
     "text": [
      "Набор для бульона свиной Набор для бульона свиной, в наличии, 76р/кг.\n",
      "Свинина\n",
      "_______\n",
      "Мясо премиум Предлагаем котлетное мясо мраморной говядины.\n",
      "Говядина\n",
      "_______\n",
      "спинка цб\n",
      "Цыпленок\n",
      "_______\n",
      "Говядина блочная 2 сорт в наличии ООО \"АгроСоюз\" реализует блочную говядину 2 сорт (80/20)\n",
      "Свободный объем 8 тонн Самовывоз или доставка. Все подробности по телефону.\n",
      "Говядина\n",
      "_______\n",
      "Куриная разделка Продам кур и куриную разделку гост и халяль по хорошей цене .Тел:\n",
      "Кура\n",
      "_______\n",
      "Говяжью мукозу Продам говяжью мукозу в охл и замороженном виде. Есть объем.\n",
      "Говядина\n",
      "_______\n"
     ]
    }
   ],
   "source": [
    "examples = ['Набор для бульона свиной Набор для бульона свиной, в наличии, 76р/кг.',\n",
    "            \"Мясо премиум Предлагаем котлетное мясо мраморной говядины.\",\n",
    "            \"спинка цб\",\n",
    "            'Говядина блочная 2 сорт в наличии ООО \"АгроСоюз\" реализует блочную говядину 2 сорт (80/20)\\nСвободный объем 8 тонн Самовывоз или доставка. Все подробности по телефону.',\n",
    "            'Куриная разделка Продам кур и куриную разделку гост и халяль по хорошей цене .Тел:',\n",
    "            'Говяжью мукозу Продам говяжью мукозу в охл и замороженном виде. Есть объем.']\n",
    "\n",
    "for example in examples:\n",
    "    print(example)\n",
    "    print(predict(example, device))\n",
    "    print(\"_______\")"
   ]
  }
 ],
 "metadata": {
  "kernelspec": {
   "display_name": "myenv",
   "language": "python",
   "name": "python3"
  },
  "language_info": {
   "codemirror_mode": {
    "name": "ipython",
    "version": 3
   },
   "file_extension": ".py",
   "mimetype": "text/x-python",
   "name": "python",
   "nbconvert_exporter": "python",
   "pygments_lexer": "ipython3",
   "version": "3.11.3"
  }
 },
 "nbformat": 4,
 "nbformat_minor": 2
}
